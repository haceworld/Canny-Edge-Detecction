{
 "cells": [
  {
   "cell_type": "markdown",
   "metadata": {},
   "source": [
    "FOR CECED IMAGE PREPROCESSING"
   ]
  },
  {
   "cell_type": "code",
   "execution_count": 7,
   "metadata": {},
   "outputs": [],
   "source": [
    "import keras\n",
    "import os\n",
    "os.environ[\"CUDA_VISIBLE_DEVICES\"]=\"1\"\n",
    "from keras import optimizers\n",
    "from numpy import array \n",
    "import matplotlib.pyplot as plt\n",
    "import numpy as np\n",
    "import argparse\n",
    "import imutils\n",
    "from os import listdir,makedirs\n",
    "from os.path import isfile,join\n",
    "import glob\n",
    "import cv2\n",
    "from skimage import feature \n",
    "from skimage.feature import local_binary_pattern\n",
    "from keras import backend as K\n",
    "from keras import losses\n",
    "from keras import metrics\n",
    "import tensorflow as tf\n"
   ]
  },
  {
   "cell_type": "code",
   "execution_count": 8,
   "metadata": {},
   "outputs": [],
   "source": [
    "# path to your input folder\n",
    "path_1 = r'D:\\Opencv for Canny Edge detection_CLAHE_LBP\\DATASET\\CECED\\raw\\viral'\n",
    "imgs = os.listdir(path_1)\n",
    "paths_list = [path_1]\n",
    "\n",
    "# path to your destination folder\n",
    "dstpath = r'D:\\Opencv for Canny Edge detection_CLAHE_LBP\\DATASET\\CECED\\ceced\\viral'\n",
    "\n",
    "for imgnm in imgs:\n",
    "    images = plt.imread(os.path.join(path_1,imgnm))\n",
    "    \n",
    "    # convert images to grayscale\n",
    "    gray_image = cv2.cvtColor(images, cv2.COLOR_BGR2GRAY)\n",
    "    canny=cv2.Canny(gray_image,70,80)   #threshold values\n",
    "    \n",
    "for path in paths_list:\n",
    "    \n",
    "    files = [f for f in listdir(path) if isfile(join(path,f))]\n",
    "for image in files:\n",
    "    try:   \n",
    "        dstPath = join(dstpath, image)\n",
    "        cv2.imwrite(dstPath, canny)\n",
    "    \n",
    "    except:\n",
    "        print (\"{} is not converted\".format(image))\n",
    "    "
   ]
  },
  {
   "cell_type": "code",
   "execution_count": null,
   "metadata": {},
   "outputs": [],
   "source": []
  }
 ],
 "metadata": {
  "kernelspec": {
   "display_name": "Python 3",
   "language": "python",
   "name": "python3"
  },
  "language_info": {
   "codemirror_mode": {
    "name": "ipython",
    "version": 3
   },
   "file_extension": ".py",
   "mimetype": "text/x-python",
   "name": "python",
   "nbconvert_exporter": "python",
   "pygments_lexer": "ipython3",
   "version": "3.7.4"
  }
 },
 "nbformat": 4,
 "nbformat_minor": 4
}
